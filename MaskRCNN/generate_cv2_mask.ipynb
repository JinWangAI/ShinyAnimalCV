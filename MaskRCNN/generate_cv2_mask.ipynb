{
 "cells": [
  {
   "cell_type": "code",
   "execution_count": null,
   "id": "550ad7b0-c9e4-40ce-b9ad-70193f99f9a3",
   "metadata": {},
   "outputs": [],
   "source": [
    "import os\n",
    "import shutil\n",
    "\n",
    "# Source folder path, you need to fill in your actual folder path here\n",
    "source_folder = '/Users/xiaolanbao/Documents/test_folder/json_folder'\n",
    "\n",
    "# Destination folder path\n",
    "target_folder = '/Users/xiaolanbao/Documents/test_folder/cv2_mask'\n",
    "\n",
    "# Create the destination folder, if it does not exist\n",
    "os.makedirs(target_folder, exist_ok=True)\n",
    "\n",
    "# Iterate through all subfolders under the source folder\n",
    "for subfolder_name in os.listdir(source_folder):\n",
    "    subfolder_path = os.path.join(source_folder, subfolder_name)\n",
    "\n",
    "    # Ignore non-folder items\n",
    "    if not os.path.isdir(subfolder_path):\n",
    "        continue\n",
    "\n",
    "    # Find the file named \"label.png\"\n",
    "    label_path = os.path.join(subfolder_path, 'label.png')\n",
    "\n",
    "    # If the file exists, copy it to the target folder with the name of the json folder (minus the '_json')\n",
    "    if os.path.isfile(label_path):\n",
    "        # The new file name after removing '_json'\n",
    "        new_file_name = subfolder_name.replace('_json', '') + '.png'\n",
    "        # Full path to the new file\n",
    "        new_file_path = os.path.join(target_folder, new_file_name)\n",
    "\n",
    "        # Copy the files to the target folder\n",
    "        shutil.copyfile(label_path, new_file_path)\n",
    "\n",
    "print('All label.png files have been successfully copied to the folder {}'.format(target_folder))"
   ]
  },
  {
   "cell_type": "code",
   "execution_count": null,
   "id": "cb8dbc00-8a48-4ef9-bfc2-2af1df1d789a",
   "metadata": {},
   "outputs": [],
   "source": []
  }
 ],
 "metadata": {
  "kernelspec": {
   "display_name": "Python 3 (ipykernel)",
   "language": "python",
   "name": "python3"
  },
  "language_info": {
   "codemirror_mode": {
    "name": "ipython",
    "version": 3
   },
   "file_extension": ".py",
   "mimetype": "text/x-python",
   "name": "python",
   "nbconvert_exporter": "python",
   "pygments_lexer": "ipython3",
   "version": "3.11.3"
  }
 },
 "nbformat": 4,
 "nbformat_minor": 5
}
